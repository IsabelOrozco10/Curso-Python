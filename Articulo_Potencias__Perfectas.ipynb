{
  "nbformat": 4,
  "nbformat_minor": 0,
  "metadata": {
    "colab": {
      "provenance": [],
      "authorship_tag": "ABX9TyPlh3XTvGe442klS9M3EEwb",
      "include_colab_link": true
    },
    "kernelspec": {
      "name": "python3",
      "display_name": "Python 3"
    },
    "language_info": {
      "name": "python"
    }
  },
  "cells": [
    {
      "cell_type": "markdown",
      "metadata": {
        "id": "view-in-github",
        "colab_type": "text"
      },
      "source": [
        "<a href=\"https://colab.research.google.com/github/IsabelOrozco10/Curso-Python/blob/main/Articulo_Potencias__Perfectas.ipynb\" target=\"_parent\"><img src=\"https://colab.research.google.com/assets/colab-badge.svg\" alt=\"Open In Colab\"/></a>"
      ]
    },
    {
      "cell_type": "markdown",
      "source": [
        "Podemos observar en  el siguiente codigo que las unicas potencias de Fibonacci menores que 10**20 que son cuadrados son 0,1,144"
      ],
      "metadata": {
        "id": "EZpf0IAFKCv1"
      }
    },
    {
      "cell_type": "code",
      "execution_count": null,
      "metadata": {
        "id": "lbF4MkqJJ7Vh"
      },
      "outputs": [],
      "source": [
        "from sympy import sqrt\n",
        "\n",
        "def es_potencia(n,pot):\n",
        "    return int(n**(1/pot)) ** pot == n\n",
        "es_potencia(4,2)\n",
        "\n",
        "def potencia_fibonacci(n,pot):\n",
        "    fibs = []\n",
        "    a, b = 0, 1\n",
        "    while a < n:\n",
        "        if es_potencia(a,2):\n",
        "            fibs.append(a)\n",
        "        a, b = b, a+b\n",
        "    return fibs\n",
        "m=10**20\n",
        "potencia_fibonacci(m,2)"
      ]
    },
    {
      "cell_type": "markdown",
      "source": [
        "Del mismo modo podemos saber con potencia=3 son 0,1,8"
      ],
      "metadata": {
        "id": "1GX9Y90eK6_J"
      }
    },
    {
      "cell_type": "code",
      "source": [
        "from sympy import sqrt\n",
        "\n",
        "def es_potencia(n,pot):\n",
        "    return int(n**(1/pot)) ** pot == n\n",
        "es_potencia(4,2)\n",
        "\n",
        "def potencia_fibonacci(n,pot):\n",
        "    fibs = []\n",
        "    a, b = 0, 1\n",
        "    while a < n:\n",
        "        if es_potencia(a,3):\n",
        "            fibs.append(a)\n",
        "        a, b = b, a+b\n",
        "    return fibs\n",
        "m=10**20\n",
        "potencia_fibonacci(m,3)"
      ],
      "metadata": {
        "id": "J8ufOd6ZLD8_"
      },
      "execution_count": null,
      "outputs": []
    },
    {
      "cell_type": "markdown",
      "source": [
        "Un dato interesante es que este resultado esta en  un articulo cuya urls: https://annals.math.princeton.edu/wp-content/uploads/annals-v163-n3-p05.pdf\n",
        "cuyo nombre es: Classical and modular approaches\n",
        "to exponential Diophantine equations\n",
        "I. Fibonacci and Lucas perfect powers"
      ],
      "metadata": {
        "id": "T0O3f9eGLRp0"
      }
    }
  ]
}