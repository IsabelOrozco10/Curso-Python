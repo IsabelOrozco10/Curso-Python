{
  "nbformat": 4,
  "nbformat_minor": 0,
  "metadata": {
    "colab": {
      "provenance": [],
      "authorship_tag": "ABX9TyPcfkfQQWkiKlQzX8CklbGb",
      "include_colab_link": true
    },
    "kernelspec": {
      "name": "python3",
      "display_name": "Python 3"
    },
    "language_info": {
      "name": "python"
    }
  },
  "cells": [
    {
      "cell_type": "markdown",
      "metadata": {
        "id": "view-in-github",
        "colab_type": "text"
      },
      "source": [
        "<a href=\"https://colab.research.google.com/github/IsabelOrozco10/Curso-Python/blob/main/Actividad_30_Agosto_2023.ipynb\" target=\"_parent\"><img src=\"https://colab.research.google.com/assets/colab-badge.svg\" alt=\"Open In Colab\"/></a>"
      ]
    },
    {
      "cell_type": "markdown",
      "source": [
        "Define una función tal que, dados argumentos: cantidad y rango (dos enteros positivos), regrese un conjunto con cantidad números enteros aleatorios, que pueden estar entre -rango y rango."
      ],
      "metadata": {
        "id": "iFvx0gD_GlxX"
      }
    },
    {
      "cell_type": "code",
      "execution_count": 102,
      "metadata": {
        "colab": {
          "base_uri": "https://localhost:8080/"
        },
        "id": "0WIebuVXGkjb",
        "outputId": "76b31f55-da81-4f7e-a5a1-e3079db3149c"
      },
      "outputs": [
        {
          "output_type": "execute_result",
          "data": {
            "text/plain": [
              "{2, 4, 5}"
            ]
          },
          "metadata": {},
          "execution_count": 102
        }
      ],
      "source": [
        "from random import randint\n",
        "\n",
        "def funcion(cantidad, rango):\n",
        "    conjunto = {randint(1,cantidad) for i in range(-rango, rango)}\n",
        "    return conjunto\n",
        "funcion(5,3)"
      ]
    },
    {
      "cell_type": "markdown",
      "source": [
        "Define ahora una función tal que, dado un conjunto de números enteros, regrese un subconjunto del conjunto tal que la suma de los elementos del subconjunto sea 0. Si no existe tal conjunto, la función debe regresar False"
      ],
      "metadata": {
        "id": "GyK0LH1hHIL2"
      }
    },
    {
      "cell_type": "code",
      "source": [
        "from itertools import combinations\n",
        "\n",
        "def Subconjunto_suma_cero(conjunto):\n",
        "    #Creamos un conjunto donde se pondrán los subconjuntos que cumplan que la suma es cero\n",
        "    subconjuntos_aceptables=set()\n",
        "\n",
        "    # Recorremos con un for el tamaño de los posibles subconjuntos\"\"\"\n",
        "    for i in range(1, len(conjunto) + 1):\n",
        "        # Genera todos los subconjuntos de tamaño i a partir del conjunto dado.\"\"\"\n",
        "        subconjuntos = combinations(conjunto, i)\n",
        "        # Recorre cada subconjunto\"\"\"\n",
        "        for subconjunto in subconjuntos:\n",
        "            # Para cada subconjunto se checa que la suma sea cero\"\"\"\n",
        "            if sum(subconjunto) == 0:\n",
        "                subconjuntos_aceptables.add(subconjunto)\n",
        "\n",
        "    # Si hay subconjuntos que cumplen que la suma es cero regresa los subconjuntos\"\"\"\n",
        "    if len(subconjuntos_aceptables)>0:\n",
        "        return subconjuntos_aceptables\n",
        "\n",
        "    # Si hay subconjuntos que cumplen que la suma es cero regresa false\"\"\"\n",
        "    else:\n",
        "        return False\n",
        "\n",
        "conjunto = {7, -2, 6, 9, -4, 2}\n",
        "Subconjunto_suma_cero(conjunto)"
      ],
      "metadata": {
        "colab": {
          "base_uri": "https://localhost:8080/"
        },
        "id": "T2jXrw6NOY6c",
        "outputId": "722645af-2a4a-46bb-e986-785a61abd629"
      },
      "execution_count": 115,
      "outputs": [
        {
          "output_type": "execute_result",
          "data": {
            "text/plain": [
              "{(2, -2), (6, -4, -2)}"
            ]
          },
          "metadata": {},
          "execution_count": 115
        }
      ]
    }
  ]
}