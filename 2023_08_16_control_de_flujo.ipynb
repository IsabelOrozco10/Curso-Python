{
  "cells": [
    {
      "cell_type": "markdown",
      "metadata": {
        "id": "view-in-github",
        "colab_type": "text"
      },
      "source": [
        "<a href=\"https://colab.research.google.com/github/IsabelOrozco10/Curso-Python/blob/main/2023_08_16_control_de_flujo.ipynb\" target=\"_parent\"><img src=\"https://colab.research.google.com/assets/colab-badge.svg\" alt=\"Open In Colab\"/></a>"
      ]
    },
    {
      "cell_type": "markdown",
      "metadata": {
        "id": "4PrGAheICixF"
      },
      "source": [
        "Control de flujo\n",
        "================\n",
        "\n",
        "**Date:** 2022-02-03\n",
        "\n"
      ]
    },
    {
      "cell_type": "markdown",
      "metadata": {
        "id": "-sLGcKR4CixI"
      },
      "source": [
        "## Control de flujo\n",
        "\n"
      ]
    },
    {
      "cell_type": "markdown",
      "metadata": {
        "id": "t_67WhZpCixJ"
      },
      "source": [
        "### `if`\n",
        "\n"
      ]
    },
    {
      "cell_type": "code",
      "execution_count": 28,
      "metadata": {
        "colab": {
          "base_uri": "https://localhost:8080/"
        },
        "id": "e-1Er2znCixJ",
        "outputId": "38f4b411-784b-4ddf-c92c-676ce9b98cc1"
      },
      "outputs": [
        {
          "output_type": "execute_result",
          "data": {
            "text/plain": [
              "['Daira', 'Marcos', 'Bigvai', 'Alfredo', 'Isabel', 'Diana', 'Luis']"
            ]
          },
          "metadata": {},
          "execution_count": 28
        }
      ],
      "source": [
        "inscritos = [\"Daira\", \"Marcos\", \"Bigvai\", \"Alfredo\", \"Isabel\"]\n",
        "oyentes = [\"Diana\", \"Luis\"]\n",
        "estudiantes = inscritos + oyentes\n",
        "estudiantes"
      ]
    },
    {
      "cell_type": "code",
      "execution_count": 4,
      "metadata": {
        "id": "COgxRlu1CixK"
      },
      "outputs": [],
      "source": [
        "if len(estudiantes) > 15:\n",
        "    print(\"Son muchos estudiantes\")"
      ]
    },
    {
      "cell_type": "code",
      "execution_count": 9,
      "metadata": {
        "colab": {
          "base_uri": "https://localhost:8080/"
        },
        "id": "Ix6KcxlxCixL",
        "outputId": "897bb62d-635b-4322-8e7f-ebe23e105fbd"
      },
      "outputs": [
        {
          "output_type": "stream",
          "name": "stdout",
          "text": [
            "Son pocos estudiantes. Ojalá entren oyentes\n"
          ]
        }
      ],
      "source": [
        "if len(estudiantes) > 10:\n",
        "    print(\"Son muchos estudiantes\")\n",
        "else:\n",
        "    print(\"Son pocos estudiantes\", end=\". \")\n",
        "    print(\"Ojalá entren oyentes\")"
      ]
    },
    {
      "cell_type": "markdown",
      "source": [
        "elif = \"si fuera esto\""
      ],
      "metadata": {
        "id": "e0rTyot5Ehly"
      }
    },
    {
      "cell_type": "code",
      "execution_count": 13,
      "metadata": {
        "colab": {
          "base_uri": "https://localhost:8080/"
        },
        "id": "1FvjD1HyCixL",
        "outputId": "e7452ae4-be34-4693-e658-92b9c01f9210"
      },
      "outputs": [
        {
          "output_type": "stream",
          "name": "stdout",
          "text": [
            "Son seis estudiantes\n"
          ]
        }
      ],
      "source": [
        "if len(inscritos) <= 5:\n",
        "    print(\"Son cuando mucho cinco estudiantes\")\n",
        "elif len(inscritos) == 6:\n",
        "    print(\"Son seis estudiantes\")\n",
        "else:\n",
        "    print(\"Son muchos estudiantes\", end=\". \")\n",
        "    print(\"Ojalá no entren oyentes\")"
      ]
    },
    {
      "cell_type": "markdown",
      "metadata": {
        "id": "IQZgOU83CixM"
      },
      "source": [
        "### `for`\n",
        "\n"
      ]
    },
    {
      "cell_type": "markdown",
      "source": [
        "range(7) = [0,1,2,3,4,5,6]"
      ],
      "metadata": {
        "id": "NFyAJEFuFwwh"
      }
    },
    {
      "cell_type": "code",
      "execution_count": 14,
      "metadata": {
        "colab": {
          "base_uri": "https://localhost:8080/"
        },
        "id": "nKUbfoIxCixM",
        "outputId": "782735ce-dbb9-4588-be77-fec56b1ad0ff"
      },
      "outputs": [
        {
          "output_type": "stream",
          "name": "stdout",
          "text": [
            "Hola Daira ¿Cómo estás?\n",
            "Hola Marcos ¿Cómo estás?\n",
            "Hola Bigvai ¿Cómo estás?\n",
            "Hola Alfredo ¿Cómo estás?\n",
            "Hola Karen ¿Cómo estás?\n",
            "Hola Diana ¿Cómo estás?\n",
            "Hola Luis ¿Cómo estás?\n"
          ]
        }
      ],
      "source": [
        "for estudiante in estudiantes:\n",
        "    print(\"Hola\", estudiante, \"¿Cómo estás?\")"
      ]
    },
    {
      "cell_type": "code",
      "execution_count": 15,
      "metadata": {
        "colab": {
          "base_uri": "https://localhost:8080/"
        },
        "id": "mSJUlZnfCixN",
        "outputId": "4b841a1c-e48d-4977-a55f-5f90e774f37f"
      },
      "outputs": [
        {
          "output_type": "stream",
          "name": "stdout",
          "text": [
            "Hola Daira\n",
            "Hola Marcos\n",
            "Hola Bigvai\n",
            "Hola Alfredo\n",
            "Hola Karen\n",
            "Hola Diana\n",
            "Hola Luis\n"
          ]
        }
      ],
      "source": [
        "for i in range(len(estudiantes)):\n",
        "    print(\"Hola\", estudiantes[i])"
      ]
    },
    {
      "cell_type": "markdown",
      "source": [
        "range(inicia, termina, pasos)"
      ],
      "metadata": {
        "id": "rBRRfbW5GirZ"
      }
    },
    {
      "cell_type": "code",
      "execution_count": 20,
      "metadata": {
        "colab": {
          "base_uri": "https://localhost:8080/"
        },
        "id": "PPuMVp2KCixN",
        "outputId": "b8763f2f-cf83-42f5-aac5-76f27eb8db3b"
      },
      "outputs": [
        {
          "output_type": "stream",
          "name": "stdout",
          "text": [
            "3\n",
            "2\n",
            "1\n",
            "0\n",
            "Booom\n"
          ]
        }
      ],
      "source": [
        "for j in range(3, -1, -1):\n",
        "    print(j)\n",
        "    if j == 0:\n",
        "        print(\"Booom\")"
      ]
    },
    {
      "cell_type": "markdown",
      "source": [
        "nos dice que esos dos son lo mismo"
      ],
      "metadata": {
        "id": "FDWkEmo0HdBs"
      }
    },
    {
      "cell_type": "code",
      "execution_count": 21,
      "metadata": {
        "colab": {
          "base_uri": "https://localhost:8080/"
        },
        "id": "nMN-qgjUCixO",
        "outputId": "724f07d4-33fd-47c8-f2c3-c04b0e522807"
      },
      "outputs": [
        {
          "output_type": "execute_result",
          "data": {
            "text/plain": [
              "range(0, 7897987978979779878979797987987979779797979)"
            ]
          },
          "metadata": {},
          "execution_count": 21
        }
      ],
      "source": [
        "range(7897987978979779878979797987987979779797979)"
      ]
    },
    {
      "cell_type": "markdown",
      "source": [
        "\"Para que nos aparezca los elemntios del range\""
      ],
      "metadata": {
        "id": "BHwd0v2rHZro"
      }
    },
    {
      "cell_type": "code",
      "source": [
        "list(range(0,7))"
      ],
      "metadata": {
        "colab": {
          "base_uri": "https://localhost:8080/"
        },
        "id": "L5CQfbGbHJXf",
        "outputId": "f50a4112-334d-4635-dc6b-3724148a24cd"
      },
      "execution_count": 24,
      "outputs": [
        {
          "output_type": "execute_result",
          "data": {
            "text/plain": [
              "[0, 1, 2, 3, 4, 5, 6]"
            ]
          },
          "metadata": {},
          "execution_count": 24
        }
      ]
    },
    {
      "cell_type": "markdown",
      "source": [
        "\"Nos dice que comienza en 5 y termine antes de 100 en dos pasos\""
      ],
      "metadata": {
        "id": "8wbXfe4KIAF0"
      }
    },
    {
      "cell_type": "code",
      "source": [
        "range(5,100,2)"
      ],
      "metadata": {
        "colab": {
          "base_uri": "https://localhost:8080/"
        },
        "id": "C_gN5C1kH7Z7",
        "outputId": "7c473c13-5779-414b-a26c-0686b3b85ca1"
      },
      "execution_count": 25,
      "outputs": [
        {
          "output_type": "execute_result",
          "data": {
            "text/plain": [
              "range(5, 100, 2)"
            ]
          },
          "metadata": {},
          "execution_count": 25
        }
      ]
    },
    {
      "cell_type": "markdown",
      "metadata": {
        "id": "G8wChtsUCixO"
      },
      "source": [
        "La suma de todos los números del 1 al 100.\n",
        "\n"
      ]
    },
    {
      "cell_type": "markdown",
      "source": [
        "\"Suma los elemntos del range\""
      ],
      "metadata": {
        "id": "aL-Lof-lIhN5"
      }
    },
    {
      "cell_type": "code",
      "execution_count": 26,
      "metadata": {
        "colab": {
          "base_uri": "https://localhost:8080/"
        },
        "id": "l57-KX-PCixO",
        "outputId": "b9495d17-eda1-4e6e-8b1c-77081f8e0bd3"
      },
      "outputs": [
        {
          "output_type": "execute_result",
          "data": {
            "text/plain": [
              "5050"
            ]
          },
          "metadata": {},
          "execution_count": 26
        }
      ],
      "source": [
        "sum(range(101))"
      ]
    },
    {
      "cell_type": "markdown",
      "metadata": {
        "id": "ZQK1o9kdCixO"
      },
      "source": [
        "### break, continue y else en ciclos for\n",
        "\n"
      ]
    },
    {
      "cell_type": "markdown",
      "metadata": {
        "id": "YUGq_g7qCixP"
      },
      "source": [
        "#### break\n",
        "\n"
      ]
    },
    {
      "cell_type": "markdown",
      "metadata": {
        "id": "GTdovuPlCixP"
      },
      "source": [
        "`break` sirve para interrumpir un ciclo for.\n",
        "\n"
      ]
    },
    {
      "cell_type": "code",
      "execution_count": 29,
      "metadata": {
        "colab": {
          "base_uri": "https://localhost:8080/"
        },
        "id": "VkSgVNscCixP",
        "outputId": "4fed0756-a160-4dac-958d-0bc12c1a62bd"
      },
      "outputs": [
        {
          "output_type": "stream",
          "name": "stdout",
          "text": [
            "Hola Daira ¿Cómo estás?\n",
            "Hola Marcos ¿Cómo estás?\n",
            "Hola Bigvai ¿Cómo estás?\n",
            "Hola Alfredo ¿Cómo estás?\n",
            "Hola Isabel ¿Cómo estás?\n",
            "Hola Diana ¿Cómo estás?\n",
            "Hola Luis ¿Cómo estás?\n",
            "Ya saludé a los inscritos\n"
          ]
        }
      ],
      "source": [
        "for estudiante in estudiantes:\n",
        "    print(\"Hola\", estudiante, \"¿Cómo estás?\")\n",
        "    if estudiante == \"Karen\":\n",
        "        break\n",
        "\n",
        "print(\"Ya saludé a los inscritos\")"
      ]
    },
    {
      "cell_type": "markdown",
      "metadata": {
        "id": "8ONsNhtACixP"
      },
      "source": [
        "#### else en un ciclo for\n",
        "\n"
      ]
    },
    {
      "cell_type": "markdown",
      "metadata": {
        "id": "znS07aMsCixQ"
      },
      "source": [
        "La cláusula `else` en un ciclo `for` se ejecuta cuando el ciclo `for` termina de manera \"natural\", sin haber pasado por una cláusula `break`.\n",
        "\n"
      ]
    },
    {
      "cell_type": "markdown",
      "source": [
        "\" // = significa parte entera\""
      ],
      "metadata": {
        "id": "umnnXcXEKJJH"
      }
    },
    {
      "cell_type": "code",
      "execution_count": 30,
      "metadata": {
        "colab": {
          "base_uri": "https://localhost:8080/"
        },
        "id": "8bLFVtt-CixQ",
        "outputId": "2456c032-4428-4a8e-a721-17ff6501fe56"
      },
      "outputs": [
        {
          "output_type": "stream",
          "name": "stdout",
          "text": [
            "2 es un número primo\n",
            "3 es un número primo\n",
            "4 es igual a 2 * 2\n",
            "5 es un número primo\n",
            "6 es igual a 2 * 3\n",
            "7 es un número primo\n",
            "8 es igual a 2 * 4\n",
            "9 es igual a 3 * 3\n"
          ]
        }
      ],
      "source": [
        "for n in range(2, 10):\n",
        "    for x in range(2, n):\n",
        "        if n % x == 0:\n",
        "            print(n, 'es igual a', x, '*', n//x)\n",
        "            break\n",
        "    else:\n",
        "        # se terminó de checar posibles divisores sin encontrar uno\n",
        "        print(n, 'es un número primo')"
      ]
    },
    {
      "cell_type": "markdown",
      "metadata": {
        "id": "te0sEcSFCixQ"
      },
      "source": [
        "#### continue\n",
        "\n"
      ]
    },
    {
      "cell_type": "markdown",
      "source": [
        "Hace que si for se interrumpe continue con lo siguiente"
      ],
      "metadata": {
        "id": "vMOGk3-WMZjN"
      }
    },
    {
      "cell_type": "code",
      "execution_count": 32,
      "metadata": {
        "colab": {
          "base_uri": "https://localhost:8080/"
        },
        "id": "8a4Uk33jCixR",
        "outputId": "faf58f2c-fcf7-4a8a-9f9b-9f798d964d73"
      },
      "outputs": [
        {
          "output_type": "stream",
          "name": "stdout",
          "text": [
            "Hola Daira ¿Cómo estás?\n",
            "¿Qué materias estás llevando, Daira ?\n",
            "Hola Marcos ¿Cómo estás?\n",
            "¿Qué materias estás llevando, Marcos ?\n",
            "Hola Bigvai ¿Cómo estás?\n",
            "¿Qué materias estás llevando, Bigvai ?\n",
            "Hola Alfredo ¿Cómo estás?\n"
          ]
        }
      ],
      "source": [
        "for estudiante in estudiantes:\n",
        "    print(\"Hola\", estudiante, \"¿Cómo estás?\")\n",
        "    if estudiante in [\"Alfredo\", \"Ruth\"]:\n",
        "        break\n",
        "    print(\"¿Qué materias estás llevando,\", estudiante,\"?\")"
      ]
    },
    {
      "cell_type": "markdown",
      "metadata": {
        "id": "-uR6UFibCixR"
      },
      "source": [
        "#### pass\n",
        "\n"
      ]
    },
    {
      "cell_type": "markdown",
      "metadata": {
        "id": "etzuvn65CixR"
      },
      "source": [
        "La claúsula `pass` no hace nada, pero puede servir para que un programa incompleto sea sintácticamente correcto.\n",
        "\n"
      ]
    },
    {
      "cell_type": "code",
      "execution_count": 33,
      "metadata": {
        "colab": {
          "base_uri": "https://localhost:8080/"
        },
        "id": "LFUjm2jgCixR",
        "outputId": "4793b082-92fb-4ec6-bd76-4b2053528cb2"
      },
      "outputs": [
        {
          "output_type": "stream",
          "name": "stdout",
          "text": [
            "Hola Daira ¿Cómo estás?\n",
            "Hola Marcos ¿Cómo estás?\n",
            "Hola Bigvai ¿Cómo estás?\n",
            "Hola Alfredo ¿Cómo estás?\n",
            "Hola Isabel ¿Cómo estás?\n",
            "Hola Diana ¿Cómo estás?\n",
            "Hola Luis ¿Cómo estás?\n"
          ]
        }
      ],
      "source": [
        "for estudiante in estudiantes:\n",
        "    print(\"Hola\", estudiante, \"¿Cómo estás?\")\n",
        "    if estudiante in [\"Uriel\", \"Ruth\"]:\n",
        "        pass"
      ]
    },
    {
      "cell_type": "code",
      "execution_count": 34,
      "metadata": {
        "colab": {
          "base_uri": "https://localhost:8080/"
        },
        "id": "JEozrqp7CixS",
        "outputId": "bf6db952-7f77-404f-8569-db19312a4373"
      },
      "outputs": [
        {
          "output_type": "stream",
          "name": "stdout",
          "text": [
            "Hola Daira ¿Cómo estás?\n",
            "Hola Marcos ¿Cómo estás?\n",
            "Hola Bigvai ¿Cómo estás?\n",
            "Hola Alfredo ¿Cómo estás?\n",
            "Hola Isabel ¿Cómo estás?\n",
            "Hola Diana ¿Cómo estás?\n",
            "Hola Luis ¿Cómo estás?\n"
          ]
        }
      ],
      "source": [
        "for estudiante in estudiantes:\n",
        "    print(\"Hola\", estudiante, \"¿Cómo estás?\")\n",
        "    if estudiante in [\"Uriel\", \"Ruth\"]:\n",
        "        print(\"Hola\", estudiante, \"¿Eres oyente?\")"
      ]
    }
  ],
  "metadata": {
    "kernelspec": {
      "display_name": "Python 3",
      "language": "python",
      "name": "python3"
    },
    "language_info": {
      "codemirror_mode": {
        "name": "ipython",
        "version": 3
      },
      "file_extension": ".py",
      "mimetype": "text/x-python",
      "name": "python",
      "nbconvert_exporter": "python",
      "pygments_lexer": "ipython3",
      "version": "3.9.2"
    },
    "org": null,
    "colab": {
      "provenance": [],
      "include_colab_link": true
    }
  },
  "nbformat": 4,
  "nbformat_minor": 0
}